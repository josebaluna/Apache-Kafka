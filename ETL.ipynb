{
  "nbformat": 4,
  "nbformat_minor": 0,
  "metadata": {
    "kernelspec": {
      "display_name": "Python 3",
      "language": "python",
      "name": "python3"
    },
    "language_info": {
      "codemirror_mode": {
        "name": "ipython",
        "version": 3
      },
      "file_extension": ".py",
      "mimetype": "text/x-python",
      "name": "python",
      "nbconvert_exporter": "python",
      "pygments_lexer": "ipython3",
      "version": "3.6.6"
    },
    "colab": {
      "name": "ETL.ipynb",
      "provenance": [],
      "include_colab_link": true
    }
  },
  "cells": [
    {
      "cell_type": "markdown",
      "metadata": {
        "id": "view-in-github",
        "colab_type": "text"
      },
      "source": [
        "<a href=\"https://colab.research.google.com/github/josebaluna/Apache-Kafka/blob/master/ETL.ipynb\" target=\"_parent\"><img src=\"https://colab.research.google.com/assets/colab-badge.svg\" alt=\"Open In Colab\"/></a>"
      ]
    },
    {
      "cell_type": "markdown",
      "metadata": {
        "id": "t2SdyHXPMQmv",
        "colab_type": "text"
      },
      "source": [
        "#### In order for this all to work, you'll need to install plotly and cufflinks to call plots directly off of a pandas dataframe. These libraries are not currently available through conda but are available through pip. Install the libraries at your command line/terminal using:\n",
        "\n",
        "pip install seaborn\n",
        "\n",
        "pip install seaborn\n",
        "\n",
        "pip install plotly\n",
        "\n",
        "pip install cufflinks"
      ]
    },
    {
      "cell_type": "code",
      "metadata": {
        "id": "syQwOXnlMQm0",
        "colab_type": "code",
        "colab": {
          "base_uri": "https://localhost:8080/",
          "height": 17
        },
        "outputId": "b2d5c4d1-93c6-497d-e22d-f1f8b0994d4c"
      },
      "source": [
        "import requests\n",
        "from pandas.io.json import json_normalize\n",
        "\n",
        "import json\n",
        "\n",
        "\n",
        "from pandas.io.json import json_normalize\n",
        "import pandas as pd\n",
        "\n",
        "import plotly.graph_objs as go \n",
        "from plotly.offline import init_notebook_mode,iplot\n",
        "init_notebook_mode(connected=True) \n",
        "\n",
        "import matplotlib.pyplot as plt\n",
        "import seaborn as sns\n",
        "import seaborn as sb\n",
        "sns.set_style('whitegrid')\n",
        "\n",
        "import re\n",
        "\n",
        "import datetime\n",
        "\n",
        "import warnings\n",
        "warnings.filterwarnings(\"ignore\", module=\"matplotlib\")"
      ],
      "execution_count": 1,
      "outputs": [
        {
          "output_type": "display_data",
          "data": {
            "text/html": [
              "        <script type=\"text/javascript\">\n",
              "        window.PlotlyConfig = {MathJaxConfig: 'local'};\n",
              "        if (window.MathJax) {MathJax.Hub.Config({SVG: {font: \"STIX-Web\"}});}\n",
              "        if (typeof require !== 'undefined') {\n",
              "        require.undef(\"plotly\");\n",
              "        requirejs.config({\n",
              "            paths: {\n",
              "                'plotly': ['https://cdn.plot.ly/plotly-latest.min']\n",
              "            }\n",
              "        });\n",
              "        require(['plotly'], function(Plotly) {\n",
              "            window._Plotly = Plotly;\n",
              "        });\n",
              "        }\n",
              "        </script>\n",
              "        "
            ]
          },
          "metadata": {
            "tags": []
          }
        }
      ]
    },
    {
      "cell_type": "code",
      "metadata": {
        "id": "2i2RNUaFMQm5",
        "colab_type": "code",
        "colab": {}
      },
      "source": [
        "#Data Parameters\n",
        "shop=\"167\"\n",
        "startdate=\"2019-01-01\"\n",
        "enddate=\"2019-12-31\"\n",
        "\n",
        "#GA Session\n",
        "url0 = \"http://ecompass.khaos.uma.es/ecompass/api/numberoflandings/\" + shop + \"/?startdate=\" + startdate + \"&enddate=\" + enddate + \".json\"\n",
        "\n",
        "\n",
        "\n",
        "#newusersbydimensions\n",
        "url1 = \"http://ecompass.khaos.uma.es/ecompass/api/newusersbydimensions/\" + shop + \"/?startdate=\" + startdate + \"&enddate=\" + enddate + \".json\"\n",
        "#returningvisitorsbydimensions\n",
        "url2 = \"http://ecompass.khaos.uma.es/ecompass/api/returningvisitorsbydimensions/\" + shop + \"/?startdate=\" + startdate + \"&enddate=\" + enddate + \".json\"\n",
        "#transactionsbydimensions\n",
        "url3 = \"http://ecompass.khaos.uma.es/ecompass/api/transactionsbydimensions/\" + shop + \"/?startdate=\" + startdate + \"&enddate=\" + enddate + \".json\"\n",
        "#itemrevenuebydimensions     \n",
        "url4 = \"http://ecompass.khaos.uma.es/ecompass/api/itemrevenuebydimensions/\" + shop + \"/?startdate=\" + startdate + \"&enddate=\" + enddate + \".json\"\n",
        "#itemquantitybydimensions  \n",
        "url5 = \"http://ecompass.khaos.uma.es/ecompass/api/itemquantitybydimensions/\" + shop + \"/?startdate=\" + startdate + \"&enddate=\" + enddate + \".json\"\n",
        "#transactionrevenuepersessionbydimensions\n",
        "url6 = \"http://ecompass.khaos.uma.es/ecompass/api/transactionrevenuepersessionbydimensions/\" + shop + \"/?startdate=\" + startdate + \"&enddate=\" + enddate + \".json\"\n",
        "#uniquepageviewsbydimensions\n",
        "url7 = \"http://ecompass.khaos.uma.es/ecompass/api/uniquepageviewsbydimensions/\" + shop + \"/?startdate=\" + startdate + \"&enddate=\" + enddate + \".json\"\n",
        "#revenuepertransactionbydimensions  \n",
        "url8 = \"http://ecompass.khaos.uma.es/ecompass/api/revenuepertransactionbydimensions/\" + shop + \"/?startdate=\" + startdate + \"&enddate=\" + enddate + \".json\"\n",
        "#bouncesbydimensions  \n",
        "url9 = \"http://ecompass.khaos.uma.es/ecompass/api/bouncesbydimensions/\" + shop + \"/?startdate=\" + startdate + \"&enddate=\" + enddate + \".json\"\n",
        "#uniquepurchasesbydimensions   \n",
        "url10 = \"http://ecompass.khaos.uma.es/ecompass/api/uniquepurchasesbydimensions/\" + shop + \"/?startdate=\" + startdate + \"&enddate=\" + enddate + \".json\"\n",
        "#bounceratebydimensions \n",
        "url11 = \"http://ecompass.khaos.uma.es/ecompass/api/bounceratebydimensions/\" + shop + \"/?startdate=\" + startdate + \"&enddate=\" + enddate + \".json\"\n",
        "#sessiondurationbydimensions\n",
        "url12 = \"http://ecompass.khaos.uma.es/ecompass/api/sessiondurationbydimensions/\" + shop + \"/?startdate=\" + startdate + \"&enddate=\" + enddate + \".json\"\n",
        "#avgsessiondurationbydimensions\n",
        "url13 = \"http://ecompass.khaos.uma.es/ecompass/api/avgsessiondurationbydimensions/\" + shop + \"/?startdate=\" + startdate + \"&enddate=\" + enddate + \".json\"\n",
        "#percentnewsessionsbydimensions\n",
        "url14 = \"http://ecompass.khaos.uma.es/ecompass/api/percentnewsessionsbydimensions/\" + shop + \"/?startdate=\" + startdate + \"&enddate=\" + enddate + \".json\"\n",
        "#pageviewspersessionbydimensions\n",
        "url15 = \"http://ecompass.khaos.uma.es/ecompass/api/pageviewspersessionbydimensions/\" + shop + \"/?startdate=\" + startdate + \"&enddate=\" + enddate + \".json\"\n",
        "#Sessionsbylocation\n",
        "url16 = \"http://ecompass.khaos.uma.es/ecompass/api/sessionsbylocation/\" + shop + \"/?startdate=\" + startdate + \"&enddate=\" + enddate + \".json\"\n",
        "#usersbydimensions\n",
        "url17 = \"http://ecompass.khaos.uma.es/ecompass/api/usersbydimensions/\" + shop + \"/?startdate=\" + startdate + \"&enddate=\" + enddate + \".json\"\n",
        "#Sessionsbydimensions\n",
        "url18 = \"http://ecompass.khaos.uma.es/ecompass/api/sessionsbydimensions/\" + shop + \"/?startdate=\" + startdate + \"&enddate=\" + enddate + \".json\"\n",
        "#Entrancesbydimensions\n",
        "url19 = \"http://ecompass.khaos.uma.es/ecompass/api/entrancesbydimensions/\" + shop + \"/?startdate=\" + startdate + \"&enddate=\" + enddate + \".json\"\n",
        "#Exitsbydimensions\n",
        "url20 = \"http://ecompass.khaos.uma.es/ecompass/api/exitsbydimensions/\" + shop + \"/?startdate=\" + startdate + \"&enddate=\" + enddate + \".json\"\n",
        "#Pageviewsbydimensions\n",
        "url21 = \"http://ecompass.khaos.uma.es/ecompass/api/pageviewsbydimensions/\" + shop + \"/?startdate=\" + startdate + \"&enddate=\" + enddate + \".json\""
      ],
      "execution_count": 0,
      "outputs": []
    },
    {
      "cell_type": "code",
      "metadata": {
        "id": "bsh4stkrMQm8",
        "colab_type": "code",
        "colab": {
          "base_uri": "https://localhost:8080/",
          "height": 204
        },
        "outputId": "26e53092-1aa4-49f0-a3af-0e10fc9555f7"
      },
      "source": [
        "#Data Parameters\n",
        "shop=\"167\"\n",
        "startdate=\"2019-01-01\"\n",
        "enddate=\"2019-12-31\"\n",
        "\n",
        "#Sessionsbylocation\n",
        "url16 = \"http://ecompass.khaos.uma.es/ecompass/api/sessionsbylocation/\" + shop + \"/?startdate=\" + startdate + \"&enddate=\" + enddate + \".json\"\n",
        "\n",
        "resp = requests.get(url=url16)\n",
        "data = json_normalize(resp.json())\n",
        "data.head()"
      ],
      "execution_count": 11,
      "outputs": [
        {
          "output_type": "execute_result",
          "data": {
            "text/html": [
              "<div>\n",
              "<style scoped>\n",
              "    .dataframe tbody tr th:only-of-type {\n",
              "        vertical-align: middle;\n",
              "    }\n",
              "\n",
              "    .dataframe tbody tr th {\n",
              "        vertical-align: top;\n",
              "    }\n",
              "\n",
              "    .dataframe thead th {\n",
              "        text-align: right;\n",
              "    }\n",
              "</style>\n",
              "<table border=\"1\" class=\"dataframe\">\n",
              "  <thead>\n",
              "    <tr style=\"text-align: right;\">\n",
              "      <th></th>\n",
              "      <th>region</th>\n",
              "      <th>sessions</th>\n",
              "      <th>continent</th>\n",
              "      <th>date</th>\n",
              "      <th>country</th>\n",
              "      <th>city</th>\n",
              "    </tr>\n",
              "  </thead>\n",
              "  <tbody>\n",
              "    <tr>\n",
              "      <th>0</th>\n",
              "      <td>Decentralized Administration of Macedonia and ...</td>\n",
              "      <td>17</td>\n",
              "      <td>Europe</td>\n",
              "      <td>2019-03-14</td>\n",
              "      <td>Greece</td>\n",
              "      <td>Drama</td>\n",
              "    </tr>\n",
              "    <tr>\n",
              "      <th>1</th>\n",
              "      <td>Decentralized Administration of Peloponnese, W...</td>\n",
              "      <td>2</td>\n",
              "      <td>Europe</td>\n",
              "      <td>2019-03-14</td>\n",
              "      <td>Greece</td>\n",
              "      <td>Amaliada</td>\n",
              "    </tr>\n",
              "    <tr>\n",
              "      <th>2</th>\n",
              "      <td>Attica</td>\n",
              "      <td>6</td>\n",
              "      <td>Europe</td>\n",
              "      <td>2019-03-14</td>\n",
              "      <td>Greece</td>\n",
              "      <td>Koropi</td>\n",
              "    </tr>\n",
              "    <tr>\n",
              "      <th>3</th>\n",
              "      <td>Vienna</td>\n",
              "      <td>1</td>\n",
              "      <td>Europe</td>\n",
              "      <td>2019-03-14</td>\n",
              "      <td>Austria</td>\n",
              "      <td>Vienna</td>\n",
              "    </tr>\n",
              "    <tr>\n",
              "      <th>4</th>\n",
              "      <td>Attica</td>\n",
              "      <td>20</td>\n",
              "      <td>Europe</td>\n",
              "      <td>2019-03-14</td>\n",
              "      <td>Greece</td>\n",
              "      <td>Nikaia</td>\n",
              "    </tr>\n",
              "  </tbody>\n",
              "</table>\n",
              "</div>"
            ],
            "text/plain": [
              "                                              region  ...      city\n",
              "0  Decentralized Administration of Macedonia and ...  ...     Drama\n",
              "1  Decentralized Administration of Peloponnese, W...  ...  Amaliada\n",
              "2                                             Attica  ...    Koropi\n",
              "3                                             Vienna  ...    Vienna\n",
              "4                                             Attica  ...    Nikaia\n",
              "\n",
              "[5 rows x 6 columns]"
            ]
          },
          "metadata": {
            "tags": []
          },
          "execution_count": 11
        }
      ]
    },
    {
      "cell_type": "code",
      "metadata": {
        "id": "p2irAxcXc7iH",
        "colab_type": "code",
        "colab": {}
      },
      "source": [
        "print(url5)\n",
        "print(url)"
      ],
      "execution_count": 0,
      "outputs": []
    },
    {
      "cell_type": "code",
      "metadata": {
        "id": "eQWO7L6cNmFC",
        "colab_type": "code",
        "colab": {}
      },
      "source": [
        "#Data Parameters\n",
        "shop=\"167\"\n",
        "startdate=\"2019-11-01\"\n",
        "enddate=\"2019-12-31\"\n",
        "urls = ['newusersbydimensions', 'returningvisitorsbydimensions', 'transactionsbydimensions','itemrevenuebydimensions','itemquantitybydimensions',\n",
        "        'transactionrevenuepersessionbydimensions', 'uniquepageviewsbydimensions', 'revenuepertransactionbydimensions', 'bouncesbydimensions', \n",
        "        'uniquepurchasesbydimensions', 'bounceratebydimensions', 'sessiondurationbydimensions', 'avgsessiondurationbydimensions', 'percentnewsessionsbydimensions',\n",
        "        'pageviewspersessionbydimensions', 'usersbydimensions', 'sessionsbydimensions', 'entrancesbydimensions', 'exitsbydimensions',\n",
        "        'pageviewsbydimensions']\n",
        "for route in urls:\n",
        "  url = \"http://ecompass.khaos.uma.es/ecompass/api/\" + route + \"/\" + shop + \"/?startdate=\" + startdate + \"&enddate=\" + enddate + \".json\"\n",
        "  resp = requests.get(url=url)\n",
        "  data = json_normalize(resp.json())\n",
        "  if (route == 'newusersbydimensions'):\n",
        "      result = data\n",
        "  else:\n",
        "      result = pd.merge(result, data, how='outer', on=['date','hour','browser','city','networkdomain','region','source'])"
      ],
      "execution_count": 0,
      "outputs": []
    },
    {
      "cell_type": "code",
      "metadata": {
        "id": "-Wv9IpqZSc_Q",
        "colab_type": "code",
        "colab": {
          "base_uri": "https://localhost:8080/",
          "height": 394
        },
        "outputId": "63cf201d-889b-40b1-a99c-d4c33b43dc2f"
      },
      "source": [
        "result.head()"
      ],
      "execution_count": 68,
      "outputs": [
        {
          "output_type": "execute_result",
          "data": {
            "text/html": [
              "<div>\n",
              "<style scoped>\n",
              "    .dataframe tbody tr th:only-of-type {\n",
              "        vertical-align: middle;\n",
              "    }\n",
              "\n",
              "    .dataframe tbody tr th {\n",
              "        vertical-align: top;\n",
              "    }\n",
              "\n",
              "    .dataframe thead th {\n",
              "        text-align: right;\n",
              "    }\n",
              "</style>\n",
              "<table border=\"1\" class=\"dataframe\">\n",
              "  <thead>\n",
              "    <tr style=\"text-align: right;\">\n",
              "      <th></th>\n",
              "      <th>region</th>\n",
              "      <th>source</th>\n",
              "      <th>networkdomain</th>\n",
              "      <th>browser</th>\n",
              "      <th>newusers</th>\n",
              "      <th>hour</th>\n",
              "      <th>date</th>\n",
              "      <th>city</th>\n",
              "      <th>users_x</th>\n",
              "      <th>transactions</th>\n",
              "      <th>itemrevenue</th>\n",
              "      <th>itemquantity</th>\n",
              "      <th>transactionrevenuepersession</th>\n",
              "      <th>uniquepageviews</th>\n",
              "      <th>revenuepertransaction</th>\n",
              "      <th>bounces</th>\n",
              "      <th>uniquepurchases</th>\n",
              "      <th>bouncerate</th>\n",
              "      <th>sessionduration</th>\n",
              "      <th>avgsessionduration</th>\n",
              "      <th>percentnewsessions</th>\n",
              "      <th>pageviewspersession</th>\n",
              "      <th>users_y</th>\n",
              "      <th>sessions</th>\n",
              "      <th>entrances</th>\n",
              "      <th>exits</th>\n",
              "      <th>pageviews</th>\n",
              "      <th>month</th>\n",
              "      <th>dayofweek</th>\n",
              "    </tr>\n",
              "  </thead>\n",
              "  <tbody>\n",
              "    <tr>\n",
              "      <th>0</th>\n",
              "      <td>Attica</td>\n",
              "      <td>skroutz.gr</td>\n",
              "      <td>tellas.gr</td>\n",
              "      <td>Android Webview</td>\n",
              "      <td>1</td>\n",
              "      <td>01</td>\n",
              "      <td>2019-11-07</td>\n",
              "      <td>Athens</td>\n",
              "      <td>0.0</td>\n",
              "      <td>NaN</td>\n",
              "      <td>0.0</td>\n",
              "      <td>NaN</td>\n",
              "      <td>0.0</td>\n",
              "      <td>3</td>\n",
              "      <td>0.0</td>\n",
              "      <td>NaN</td>\n",
              "      <td>NaN</td>\n",
              "      <td>0.0</td>\n",
              "      <td>3639.0</td>\n",
              "      <td>3639.0</td>\n",
              "      <td>100.0</td>\n",
              "      <td>5.0</td>\n",
              "      <td>1</td>\n",
              "      <td>1</td>\n",
              "      <td>1</td>\n",
              "      <td>NaN</td>\n",
              "      <td>5</td>\n",
              "      <td>11</td>\n",
              "      <td>Thu</td>\n",
              "    </tr>\n",
              "    <tr>\n",
              "      <th>1</th>\n",
              "      <td>Stockholm County</td>\n",
              "      <td>google</td>\n",
              "      <td>comhem.se</td>\n",
              "      <td>Chrome</td>\n",
              "      <td>1</td>\n",
              "      <td>21</td>\n",
              "      <td>2019-11-07</td>\n",
              "      <td>Solna</td>\n",
              "      <td>0.0</td>\n",
              "      <td>NaN</td>\n",
              "      <td>0.0</td>\n",
              "      <td>NaN</td>\n",
              "      <td>0.0</td>\n",
              "      <td>1</td>\n",
              "      <td>0.0</td>\n",
              "      <td>1</td>\n",
              "      <td>NaN</td>\n",
              "      <td>100.0</td>\n",
              "      <td>NaN</td>\n",
              "      <td>NaN</td>\n",
              "      <td>100.0</td>\n",
              "      <td>1.0</td>\n",
              "      <td>1</td>\n",
              "      <td>1</td>\n",
              "      <td>1</td>\n",
              "      <td>1</td>\n",
              "      <td>1</td>\n",
              "      <td>11</td>\n",
              "      <td>Thu</td>\n",
              "    </tr>\n",
              "    <tr>\n",
              "      <th>2</th>\n",
              "      <td>Attica</td>\n",
              "      <td>google</td>\n",
              "      <td>hol.gr</td>\n",
              "      <td>Chrome</td>\n",
              "      <td>1</td>\n",
              "      <td>13</td>\n",
              "      <td>2019-11-07</td>\n",
              "      <td>Acharnes</td>\n",
              "      <td>1.0</td>\n",
              "      <td>NaN</td>\n",
              "      <td>0.0</td>\n",
              "      <td>NaN</td>\n",
              "      <td>0.0</td>\n",
              "      <td>9</td>\n",
              "      <td>0.0</td>\n",
              "      <td>1</td>\n",
              "      <td>NaN</td>\n",
              "      <td>50.0</td>\n",
              "      <td>420.0</td>\n",
              "      <td>420.0</td>\n",
              "      <td>50.0</td>\n",
              "      <td>5.5</td>\n",
              "      <td>2</td>\n",
              "      <td>2</td>\n",
              "      <td>2</td>\n",
              "      <td>2</td>\n",
              "      <td>11</td>\n",
              "      <td>11</td>\n",
              "      <td>Thu</td>\n",
              "    </tr>\n",
              "    <tr>\n",
              "      <th>3</th>\n",
              "      <td>Decentralized Administration of Peloponnese, W...</td>\n",
              "      <td>google</td>\n",
              "      <td>(not set)</td>\n",
              "      <td>Chrome</td>\n",
              "      <td>1</td>\n",
              "      <td>01</td>\n",
              "      <td>2019-11-07</td>\n",
              "      <td>(not set)</td>\n",
              "      <td>1.0</td>\n",
              "      <td>NaN</td>\n",
              "      <td>0.0</td>\n",
              "      <td>NaN</td>\n",
              "      <td>0.0</td>\n",
              "      <td>23</td>\n",
              "      <td>0.0</td>\n",
              "      <td>NaN</td>\n",
              "      <td>NaN</td>\n",
              "      <td>0.0</td>\n",
              "      <td>917.0</td>\n",
              "      <td>917.0</td>\n",
              "      <td>50.0</td>\n",
              "      <td>18.0</td>\n",
              "      <td>2</td>\n",
              "      <td>2</td>\n",
              "      <td>2</td>\n",
              "      <td>2</td>\n",
              "      <td>36</td>\n",
              "      <td>11</td>\n",
              "      <td>Thu</td>\n",
              "    </tr>\n",
              "    <tr>\n",
              "      <th>4</th>\n",
              "      <td>Decentralized Administration of Macedonia and ...</td>\n",
              "      <td>bestprice.gr</td>\n",
              "      <td>tellas.gr</td>\n",
              "      <td>Chrome</td>\n",
              "      <td>1</td>\n",
              "      <td>22</td>\n",
              "      <td>2019-11-07</td>\n",
              "      <td>Thessaloniki</td>\n",
              "      <td>0.0</td>\n",
              "      <td>NaN</td>\n",
              "      <td>0.0</td>\n",
              "      <td>NaN</td>\n",
              "      <td>0.0</td>\n",
              "      <td>1</td>\n",
              "      <td>0.0</td>\n",
              "      <td>1</td>\n",
              "      <td>NaN</td>\n",
              "      <td>100.0</td>\n",
              "      <td>NaN</td>\n",
              "      <td>NaN</td>\n",
              "      <td>100.0</td>\n",
              "      <td>1.0</td>\n",
              "      <td>1</td>\n",
              "      <td>1</td>\n",
              "      <td>1</td>\n",
              "      <td>1</td>\n",
              "      <td>1</td>\n",
              "      <td>11</td>\n",
              "      <td>Thu</td>\n",
              "    </tr>\n",
              "  </tbody>\n",
              "</table>\n",
              "</div>"
            ],
            "text/plain": [
              "                                              region  ... dayofweek\n",
              "0                                             Attica  ...       Thu\n",
              "1                                   Stockholm County  ...       Thu\n",
              "2                                             Attica  ...       Thu\n",
              "3  Decentralized Administration of Peloponnese, W...  ...       Thu\n",
              "4  Decentralized Administration of Macedonia and ...  ...       Thu\n",
              "\n",
              "[5 rows x 29 columns]"
            ]
          },
          "metadata": {
            "tags": []
          },
          "execution_count": 68
        }
      ]
    },
    {
      "cell_type": "code",
      "metadata": {
        "id": "Qei38dOyEx2t",
        "colab_type": "code",
        "colab": {}
      },
      "source": [
        "for i in range(100,300):\n",
        "  url = \"http://ecompass.khaos.uma.es/ecompass/api/numberofvisits/\" + str(i) + \"/?startdate=2015-06-01&amp;enddate=2019-12-31.json\"\n",
        "  resp = requests.get(url=url)\n",
        "  data = json_normalize(resp.json())\n",
        "  print (\"Intento\" + str(i) + \": \" + url)\n"
      ],
      "execution_count": 0,
      "outputs": []
    },
    {
      "cell_type": "code",
      "metadata": {
        "id": "vAeplHXwN9xB",
        "colab_type": "code",
        "colab": {
          "base_uri": "https://localhost:8080/",
          "height": 80
        },
        "outputId": "2a696cdd-e156-4cea-9528-c17633875b09"
      },
      "source": [
        "data.head()"
      ],
      "execution_count": 45,
      "outputs": [
        {
          "output_type": "execute_result",
          "data": {
            "text/html": [
              "<div>\n",
              "<style scoped>\n",
              "    .dataframe tbody tr th:only-of-type {\n",
              "        vertical-align: middle;\n",
              "    }\n",
              "\n",
              "    .dataframe tbody tr th {\n",
              "        vertical-align: top;\n",
              "    }\n",
              "\n",
              "    .dataframe thead th {\n",
              "        text-align: right;\n",
              "    }\n",
              "</style>\n",
              "<table border=\"1\" class=\"dataframe\">\n",
              "  <thead>\n",
              "    <tr style=\"text-align: right;\">\n",
              "      <th></th>\n",
              "      <th>results.bindings</th>\n",
              "      <th>results.ordered</th>\n",
              "      <th>results.distinct</th>\n",
              "      <th>head.vars</th>\n",
              "      <th>head.link</th>\n",
              "    </tr>\n",
              "  </thead>\n",
              "  <tbody>\n",
              "    <tr>\n",
              "      <th>0</th>\n",
              "      <td>[{'numberOfVisits': {'value': '0.0', 'datatype...</td>\n",
              "      <td>True</td>\n",
              "      <td>False</td>\n",
              "      <td>[numberOfVisits]</td>\n",
              "      <td>[]</td>\n",
              "    </tr>\n",
              "  </tbody>\n",
              "</table>\n",
              "</div>"
            ],
            "text/plain": [
              "                                    results.bindings  ...  head.link\n",
              "0  [{'numberOfVisits': {'value': '0.0', 'datatype...  ...         []\n",
              "\n",
              "[1 rows x 5 columns]"
            ]
          },
          "metadata": {
            "tags": []
          },
          "execution_count": 45
        }
      ]
    },
    {
      "cell_type": "code",
      "metadata": {
        "id": "Iob7Njz7MQm_",
        "colab_type": "code",
        "colab": {
          "base_uri": "https://localhost:8080/",
          "height": 34
        },
        "outputId": "a1c8ccbe-1743-42d5-e151-50e019b58c2c"
      },
      "source": [
        "result.shape"
      ],
      "execution_count": 4,
      "outputs": [
        {
          "output_type": "execute_result",
          "data": {
            "text/plain": [
              "(100736, 27)"
            ]
          },
          "metadata": {
            "tags": []
          },
          "execution_count": 4
        }
      ]
    },
    {
      "cell_type": "code",
      "metadata": {
        "id": "U35Lh9pSMQnC",
        "colab_type": "code",
        "colab": {
          "base_uri": "https://localhost:8080/",
          "height": 561
        },
        "outputId": "ac05ccc4-aa94-4c69-afc9-d7e69c1b39e9"
      },
      "source": [
        "result.info()"
      ],
      "execution_count": 5,
      "outputs": [
        {
          "output_type": "stream",
          "text": [
            "<class 'pandas.core.frame.DataFrame'>\n",
            "Int64Index: 100736 entries, 0 to 100735\n",
            "Data columns (total 27 columns):\n",
            "region                          100736 non-null object\n",
            "source                          100736 non-null object\n",
            "networkdomain                   100736 non-null object\n",
            "browser                         100736 non-null object\n",
            "newusers                        64743 non-null object\n",
            "hour                            100736 non-null object\n",
            "date                            100736 non-null object\n",
            "city                            100736 non-null object\n",
            "users_x                         96966 non-null object\n",
            "transactions                    2423 non-null object\n",
            "itemrevenue                     100736 non-null object\n",
            "itemquantity                    2423 non-null object\n",
            "transactionrevenuepersession    96715 non-null object\n",
            "uniquepageviews                 100017 non-null object\n",
            "revenuepertransaction           100736 non-null object\n",
            "bounces                         50089 non-null object\n",
            "uniquepurchases                 2474 non-null object\n",
            "bouncerate                      93101 non-null object\n",
            "sessionduration                 48816 non-null object\n",
            "avgsessionduration              48816 non-null object\n",
            "percentnewsessions              94978 non-null object\n",
            "pageviewspersession             98586 non-null object\n",
            "users_y                         98631 non-null object\n",
            "sessions                        93047 non-null object\n",
            "entrances                       90779 non-null object\n",
            "exits                           92701 non-null object\n",
            "pageviews                       96579 non-null object\n",
            "dtypes: object(27)\n",
            "memory usage: 21.5+ MB\n"
          ],
          "name": "stdout"
        }
      ]
    },
    {
      "cell_type": "code",
      "metadata": {
        "id": "pQAw0GR7MQnF",
        "colab_type": "code",
        "colab": {
          "base_uri": "https://localhost:8080/",
          "height": 493
        },
        "outputId": "ebb077d0-6ca3-43fd-ddab-9582c048da63"
      },
      "source": [
        "result[result['newusers'] == '1'].count()"
      ],
      "execution_count": 7,
      "outputs": [
        {
          "output_type": "execute_result",
          "data": {
            "text/plain": [
              "region                          54697\n",
              "source                          54697\n",
              "networkdomain                   54697\n",
              "browser                         54697\n",
              "newusers                        54697\n",
              "hour                            54697\n",
              "date                            54697\n",
              "city                            54697\n",
              "users_x                         52577\n",
              "transactions                      745\n",
              "itemrevenue                     54697\n",
              "itemquantity                      745\n",
              "transactionrevenuepersession    52409\n",
              "uniquepageviews                 54620\n",
              "revenuepertransaction           54697\n",
              "bounces                         28974\n",
              "uniquepurchases                   764\n",
              "bouncerate                      52484\n",
              "sessionduration                 23823\n",
              "avgsessionduration              23823\n",
              "percentnewsessions              53496\n",
              "pageviewspersession             53496\n",
              "users_y                         53496\n",
              "sessions                        52430\n",
              "entrances                       51196\n",
              "exits                           50679\n",
              "pageviews                       52389\n",
              "dtype: int64"
            ]
          },
          "metadata": {
            "tags": []
          },
          "execution_count": 7
        }
      ]
    },
    {
      "cell_type": "code",
      "metadata": {
        "id": "TdSrgT0iMQnI",
        "colab_type": "code",
        "colab": {}
      },
      "source": [
        "data[data['city'] == 'Madrid'].count()"
      ],
      "execution_count": 0,
      "outputs": []
    },
    {
      "cell_type": "code",
      "metadata": {
        "id": "h9Z_vcOfMQnM",
        "colab_type": "code",
        "colab": {}
      },
      "source": [
        "data['city'].value_counts().head(10)"
      ],
      "execution_count": 0,
      "outputs": []
    },
    {
      "cell_type": "code",
      "metadata": {
        "id": "dPhreqd0MQnQ",
        "colab_type": "code",
        "colab": {}
      },
      "source": [
        "data['browser'].value_counts()"
      ],
      "execution_count": 0,
      "outputs": []
    },
    {
      "cell_type": "code",
      "metadata": {
        "id": "6ImrQ5A5MQnV",
        "colab_type": "code",
        "colab": {}
      },
      "source": [
        "data1['source'].value_counts().head(10)"
      ],
      "execution_count": 0,
      "outputs": []
    },
    {
      "cell_type": "code",
      "metadata": {
        "id": "U3aEyFWcMQnY",
        "colab_type": "code",
        "colab": {}
      },
      "source": [
        "data['year'] = data['date'].apply(lambda title: title.split('-')[0])"
      ],
      "execution_count": 0,
      "outputs": []
    },
    {
      "cell_type": "code",
      "metadata": {
        "id": "Ze-4O9dmMQna",
        "colab_type": "code",
        "colab": {}
      },
      "source": [
        "data.head()"
      ],
      "execution_count": 0,
      "outputs": []
    },
    {
      "cell_type": "code",
      "metadata": {
        "id": "L1gvIGVoMQnd",
        "colab_type": "code",
        "colab": {}
      },
      "source": [
        ""
      ],
      "execution_count": 0,
      "outputs": []
    },
    {
      "cell_type": "code",
      "metadata": {
        "id": "N2mkQ5vqMQng",
        "colab_type": "code",
        "colab": {}
      },
      "source": [
        "import plotly.express as px\n",
        "df = px.data.gapminder().query(\"year == 2007\").query(\"continent == 'Europe'\")\n",
        "df.head()\n",
        "df.loc[df['pop'] < 2.e6, 'country'] = 'Other countries' # Represent only large countries\n",
        "fig = px.pie(df, values='pop', names='country', title='Population of European continent')\n",
        "fig.show()"
      ],
      "execution_count": 0,
      "outputs": []
    },
    {
      "cell_type": "code",
      "metadata": {
        "id": "6XgphrMvMQnk",
        "colab_type": "code",
        "colab": {}
      },
      "source": [
        "data['itemquantity'] = data['itemquantity'].astype('int64')"
      ],
      "execution_count": 0,
      "outputs": []
    },
    {
      "cell_type": "code",
      "metadata": {
        "id": "-jNw5e04MQnn",
        "colab_type": "code",
        "colab": {}
      },
      "source": [
        ""
      ],
      "execution_count": 0,
      "outputs": []
    },
    {
      "cell_type": "code",
      "metadata": {
        "id": "4yx89v1mMQnq",
        "colab_type": "code",
        "colab": {}
      },
      "source": [
        "import plotly.express as px\n",
        "#df = px.data.gapminder().query(\"year == 2009\").query(\"continent == 'Europe'\")\n",
        "df.loc[data['itemquantity'] < 2.e6, 'city'] # Represent only large countries\n",
        "df.head()"
      ],
      "execution_count": 0,
      "outputs": []
    },
    {
      "cell_type": "code",
      "metadata": {
        "id": "uFkSQs8mMQnt",
        "colab_type": "code",
        "colab": {}
      },
      "source": [
        "df = pd.DataFrame.from_dict(data, orient='columns')"
      ],
      "execution_count": 0,
      "outputs": []
    },
    {
      "cell_type": "code",
      "metadata": {
        "id": "82bkwOEsMQnw",
        "colab_type": "code",
        "colab": {}
      },
      "source": [
        "df.head()"
      ],
      "execution_count": 0,
      "outputs": []
    },
    {
      "cell_type": "code",
      "metadata": {
        "id": "tI3SX_iOMQnz",
        "colab_type": "code",
        "colab": {}
      },
      "source": [
        "# This dataframe has 244 lines, but 4 distinct values for `day`\n",
        "#data = px.data.tips()\n",
        "fig = px.pie(df, values='itemquantity', names='year')\n",
        "px.show()"
      ],
      "execution_count": 0,
      "outputs": []
    },
    {
      "cell_type": "code",
      "metadata": {
        "id": "gP29Wrm-MQn3",
        "colab_type": "code",
        "colab": {}
      },
      "source": [
        ""
      ],
      "execution_count": 0,
      "outputs": []
    },
    {
      "cell_type": "code",
      "metadata": {
        "id": "EyqvOOToMQn7",
        "colab_type": "code",
        "colab": {}
      },
      "source": [
        ""
      ],
      "execution_count": 0,
      "outputs": []
    },
    {
      "cell_type": "code",
      "metadata": {
        "id": "EINwq8GFMQn_",
        "colab_type": "code",
        "colab": {}
      },
      "source": [
        ""
      ],
      "execution_count": 0,
      "outputs": []
    },
    {
      "cell_type": "code",
      "metadata": {
        "id": "h2WzL-irMQoD",
        "colab_type": "code",
        "colab": {}
      },
      "source": [
        ""
      ],
      "execution_count": 0,
      "outputs": []
    },
    {
      "cell_type": "code",
      "metadata": {
        "id": "ez74fZCBMQoF",
        "colab_type": "code",
        "colab": {}
      },
      "source": [
        ""
      ],
      "execution_count": 0,
      "outputs": []
    },
    {
      "cell_type": "markdown",
      "metadata": {
        "id": "QPLlShWXMQoH",
        "colab_type": "text"
      },
      "source": [
        "Creating new features"
      ]
    },
    {
      "cell_type": "code",
      "metadata": {
        "id": "Cu8dKFdgMQoI",
        "colab_type": "code",
        "colab": {}
      },
      "source": [
        "data1['year'] = data1['date'].apply(lambda title: title.split('-')[0])"
      ],
      "execution_count": 0,
      "outputs": []
    },
    {
      "cell_type": "code",
      "metadata": {
        "id": "XtOgyRbaMQoK",
        "colab_type": "code",
        "colab": {}
      },
      "source": [
        "data1.head()"
      ],
      "execution_count": 0,
      "outputs": []
    },
    {
      "cell_type": "code",
      "metadata": {
        "id": "NcESL3PvMQoN",
        "colab_type": "code",
        "colab": {}
      },
      "source": [
        "sns.countplot(x='year',data=data1,palette='viridis')"
      ],
      "execution_count": 0,
      "outputs": []
    },
    {
      "cell_type": "code",
      "metadata": {
        "id": "qSTZePlpMQoR",
        "colab_type": "code",
        "colab": {}
      },
      "source": [
        "data1['newusers'] = data1['newusers'].astype('int64')"
      ],
      "execution_count": 0,
      "outputs": []
    },
    {
      "cell_type": "code",
      "metadata": {
        "id": "8WvAeU40MQoT",
        "colab_type": "code",
        "colab": {}
      },
      "source": [
        "sb.boxplot(x='year', y='newusers', data=data1, palette='tab10')"
      ],
      "execution_count": 0,
      "outputs": []
    },
    {
      "cell_type": "code",
      "metadata": {
        "id": "ePIx1AQwMQoW",
        "colab_type": "code",
        "colab": {}
      },
      "source": [
        "type(data1['date'].iloc[0])"
      ],
      "execution_count": 0,
      "outputs": []
    },
    {
      "cell_type": "code",
      "metadata": {
        "id": "YSZHu4HiMQoZ",
        "colab_type": "code",
        "colab": {}
      },
      "source": [
        "result['date'] = pd.to_datetime(result['date'])"
      ],
      "execution_count": 0,
      "outputs": []
    },
    {
      "cell_type": "code",
      "metadata": {
        "id": "OgAhkiizMQob",
        "colab_type": "code",
        "colab": {}
      },
      "source": [
        "#data1['Hour'] = data1['date'].apply(lambda time: time.hour)\n",
        "result['month'] = result['date'].apply(lambda time: time.month)\n",
        "result['dayofweek'] = result['date'].apply(lambda time: time.dayofweek)"
      ],
      "execution_count": 0,
      "outputs": []
    },
    {
      "cell_type": "code",
      "metadata": {
        "id": "ZBTaHrMLMQod",
        "colab_type": "code",
        "colab": {}
      },
      "source": [
        "dmap = {0:'Mon',1:'Tue',2:'Wed',3:'Thu',4:'Fri',5:'Sat',6:'Sun'}"
      ],
      "execution_count": 0,
      "outputs": []
    },
    {
      "cell_type": "code",
      "metadata": {
        "id": "8pHeQA9UMQog",
        "colab_type": "code",
        "colab": {}
      },
      "source": [
        "result['dayofweek'] = result['dayofweek'].map(dmap)"
      ],
      "execution_count": 0,
      "outputs": []
    },
    {
      "cell_type": "code",
      "metadata": {
        "id": "pQCxhKcZMQoi",
        "colab_type": "code",
        "colab": {
          "base_uri": "https://localhost:8080/",
          "height": 300
        },
        "outputId": "b054860f-ac01-4429-bb5f-9c8a18c9a055"
      },
      "source": [
        "sns.countplot(x='dayofweek',data=result,hue='transactions',palette='viridis')\n",
        "\n",
        "# To relocate the legend\n",
        "plt.legend(bbox_to_anchor=(1.05, 1), loc=2, borderaxespad=0.)"
      ],
      "execution_count": 70,
      "outputs": [
        {
          "output_type": "execute_result",
          "data": {
            "text/plain": [
              "<matplotlib.legend.Legend at 0x7f4c4779eeb8>"
            ]
          },
          "metadata": {
            "tags": []
          },
          "execution_count": 70
        },
        {
          "output_type": "display_data",
          "data": {
            "image/png": "[encoded data removed]",
            "text/plain": [
              "<Figure size 432x288 with 1 Axes>"
            ]
          },
          "metadata": {
            "tags": []
          }
        }
      ]
    },
    {
      "cell_type": "markdown",
      "metadata": {
        "id": "yf_nEWFUMQol",
        "colab_type": "text"
      },
      "source": [
        "#### Now do the same for Month:"
      ]
    },
    {
      "cell_type": "code",
      "metadata": {
        "id": "yPIqZXGTMQom",
        "colab_type": "code",
        "colab": {
          "base_uri": "https://localhost:8080/",
          "height": 296
        },
        "outputId": "5aa1630d-8693-4378-f48c-faf7db4408de"
      },
      "source": [
        "sns.countplot(x='month',data=result,hue='transactions',palette='viridis')\n",
        "\n",
        "# To relocate the legend\n",
        "plt.legend(bbox_to_anchor=(1.05, 1), loc=2, borderaxespad=0.)"
      ],
      "execution_count": 72,
      "outputs": [
        {
          "output_type": "execute_result",
          "data": {
            "text/plain": [
              "<matplotlib.legend.Legend at 0x7f4c3aed2ba8>"
            ]
          },
          "metadata": {
            "tags": []
          },
          "execution_count": 72
        },
        {
          "output_type": "display_data",
          "data": {
            "image/png": "[encoded data removed]",
            "text/plain": [
              "<Figure size 432x288 with 1 Axes>"
            ]
          },
          "metadata": {
            "tags": []
          }
        }
      ]
    },
    {
      "cell_type": "code",
      "metadata": {
        "id": "Sn-7aVdIMQoq",
        "colab_type": "code",
        "colab": {
          "base_uri": "https://localhost:8080/",
          "height": 286
        },
        "outputId": "14673567-0ae4-4bc2-b02b-707231473f0f"
      },
      "source": [
        "byMonth = result.groupby('transactions').count()\n",
        "byMonth"
      ],
      "execution_count": 76,
      "outputs": [
        {
          "output_type": "execute_result",
          "data": {
            "text/html": [
              "<div>\n",
              "<style scoped>\n",
              "    .dataframe tbody tr th:only-of-type {\n",
              "        vertical-align: middle;\n",
              "    }\n",
              "\n",
              "    .dataframe tbody tr th {\n",
              "        vertical-align: top;\n",
              "    }\n",
              "\n",
              "    .dataframe thead th {\n",
              "        text-align: right;\n",
              "    }\n",
              "</style>\n",
              "<table border=\"1\" class=\"dataframe\">\n",
              "  <thead>\n",
              "    <tr style=\"text-align: right;\">\n",
              "      <th></th>\n",
              "      <th>region</th>\n",
              "      <th>source</th>\n",
              "      <th>networkdomain</th>\n",
              "      <th>browser</th>\n",
              "      <th>newusers</th>\n",
              "      <th>hour</th>\n",
              "      <th>date</th>\n",
              "      <th>city</th>\n",
              "      <th>users_x</th>\n",
              "      <th>itemrevenue</th>\n",
              "      <th>itemquantity</th>\n",
              "      <th>transactionrevenuepersession</th>\n",
              "      <th>uniquepageviews</th>\n",
              "      <th>revenuepertransaction</th>\n",
              "      <th>bounces</th>\n",
              "      <th>uniquepurchases</th>\n",
              "      <th>bouncerate</th>\n",
              "      <th>sessionduration</th>\n",
              "      <th>avgsessionduration</th>\n",
              "      <th>percentnewsessions</th>\n",
              "      <th>pageviewspersession</th>\n",
              "      <th>users_y</th>\n",
              "      <th>sessions</th>\n",
              "      <th>entrances</th>\n",
              "      <th>exits</th>\n",
              "      <th>pageviews</th>\n",
              "      <th>month</th>\n",
              "      <th>dayofweek</th>\n",
              "    </tr>\n",
              "    <tr>\n",
              "      <th>transactions</th>\n",
              "      <th></th>\n",
              "      <th></th>\n",
              "      <th></th>\n",
              "      <th></th>\n",
              "      <th></th>\n",
              "      <th></th>\n",
              "      <th></th>\n",
              "      <th></th>\n",
              "      <th></th>\n",
              "      <th></th>\n",
              "      <th></th>\n",
              "      <th></th>\n",
              "      <th></th>\n",
              "      <th></th>\n",
              "      <th></th>\n",
              "      <th></th>\n",
              "      <th></th>\n",
              "      <th></th>\n",
              "      <th></th>\n",
              "      <th></th>\n",
              "      <th></th>\n",
              "      <th></th>\n",
              "      <th></th>\n",
              "      <th></th>\n",
              "      <th></th>\n",
              "      <th></th>\n",
              "      <th></th>\n",
              "      <th></th>\n",
              "    </tr>\n",
              "  </thead>\n",
              "  <tbody>\n",
              "    <tr>\n",
              "      <th>1</th>\n",
              "      <td>2305</td>\n",
              "      <td>2305</td>\n",
              "      <td>2305</td>\n",
              "      <td>2305</td>\n",
              "      <td>1156</td>\n",
              "      <td>2305</td>\n",
              "      <td>2305</td>\n",
              "      <td>2305</td>\n",
              "      <td>2234</td>\n",
              "      <td>2305</td>\n",
              "      <td>2305</td>\n",
              "      <td>2261</td>\n",
              "      <td>2304</td>\n",
              "      <td>2305</td>\n",
              "      <td>557</td>\n",
              "      <td>2305</td>\n",
              "      <td>1895</td>\n",
              "      <td>1810</td>\n",
              "      <td>1810</td>\n",
              "      <td>1956</td>\n",
              "      <td>2305</td>\n",
              "      <td>2305</td>\n",
              "      <td>1884</td>\n",
              "      <td>1864</td>\n",
              "      <td>2181</td>\n",
              "      <td>2278</td>\n",
              "      <td>2305</td>\n",
              "      <td>2305</td>\n",
              "    </tr>\n",
              "    <tr>\n",
              "      <th>2</th>\n",
              "      <td>96</td>\n",
              "      <td>96</td>\n",
              "      <td>96</td>\n",
              "      <td>96</td>\n",
              "      <td>50</td>\n",
              "      <td>96</td>\n",
              "      <td>96</td>\n",
              "      <td>96</td>\n",
              "      <td>90</td>\n",
              "      <td>96</td>\n",
              "      <td>96</td>\n",
              "      <td>96</td>\n",
              "      <td>96</td>\n",
              "      <td>96</td>\n",
              "      <td>34</td>\n",
              "      <td>96</td>\n",
              "      <td>79</td>\n",
              "      <td>78</td>\n",
              "      <td>78</td>\n",
              "      <td>85</td>\n",
              "      <td>96</td>\n",
              "      <td>96</td>\n",
              "      <td>85</td>\n",
              "      <td>76</td>\n",
              "      <td>85</td>\n",
              "      <td>90</td>\n",
              "      <td>96</td>\n",
              "      <td>96</td>\n",
              "    </tr>\n",
              "    <tr>\n",
              "      <th>3</th>\n",
              "      <td>18</td>\n",
              "      <td>18</td>\n",
              "      <td>18</td>\n",
              "      <td>18</td>\n",
              "      <td>10</td>\n",
              "      <td>18</td>\n",
              "      <td>18</td>\n",
              "      <td>18</td>\n",
              "      <td>18</td>\n",
              "      <td>18</td>\n",
              "      <td>18</td>\n",
              "      <td>18</td>\n",
              "      <td>18</td>\n",
              "      <td>18</td>\n",
              "      <td>1</td>\n",
              "      <td>18</td>\n",
              "      <td>16</td>\n",
              "      <td>16</td>\n",
              "      <td>16</td>\n",
              "      <td>16</td>\n",
              "      <td>18</td>\n",
              "      <td>18</td>\n",
              "      <td>16</td>\n",
              "      <td>16</td>\n",
              "      <td>15</td>\n",
              "      <td>18</td>\n",
              "      <td>18</td>\n",
              "      <td>18</td>\n",
              "    </tr>\n",
              "    <tr>\n",
              "      <th>4</th>\n",
              "      <td>2</td>\n",
              "      <td>2</td>\n",
              "      <td>2</td>\n",
              "      <td>2</td>\n",
              "      <td>2</td>\n",
              "      <td>2</td>\n",
              "      <td>2</td>\n",
              "      <td>2</td>\n",
              "      <td>2</td>\n",
              "      <td>2</td>\n",
              "      <td>2</td>\n",
              "      <td>2</td>\n",
              "      <td>2</td>\n",
              "      <td>2</td>\n",
              "      <td>1</td>\n",
              "      <td>2</td>\n",
              "      <td>2</td>\n",
              "      <td>2</td>\n",
              "      <td>2</td>\n",
              "      <td>2</td>\n",
              "      <td>2</td>\n",
              "      <td>2</td>\n",
              "      <td>2</td>\n",
              "      <td>2</td>\n",
              "      <td>2</td>\n",
              "      <td>2</td>\n",
              "      <td>2</td>\n",
              "      <td>2</td>\n",
              "    </tr>\n",
              "    <tr>\n",
              "      <th>5</th>\n",
              "      <td>1</td>\n",
              "      <td>1</td>\n",
              "      <td>1</td>\n",
              "      <td>1</td>\n",
              "      <td>1</td>\n",
              "      <td>1</td>\n",
              "      <td>1</td>\n",
              "      <td>1</td>\n",
              "      <td>1</td>\n",
              "      <td>1</td>\n",
              "      <td>1</td>\n",
              "      <td>1</td>\n",
              "      <td>1</td>\n",
              "      <td>1</td>\n",
              "      <td>0</td>\n",
              "      <td>1</td>\n",
              "      <td>0</td>\n",
              "      <td>0</td>\n",
              "      <td>0</td>\n",
              "      <td>1</td>\n",
              "      <td>1</td>\n",
              "      <td>1</td>\n",
              "      <td>0</td>\n",
              "      <td>0</td>\n",
              "      <td>0</td>\n",
              "      <td>1</td>\n",
              "      <td>1</td>\n",
              "      <td>1</td>\n",
              "    </tr>\n",
              "    <tr>\n",
              "      <th>6</th>\n",
              "      <td>1</td>\n",
              "      <td>1</td>\n",
              "      <td>1</td>\n",
              "      <td>1</td>\n",
              "      <td>1</td>\n",
              "      <td>1</td>\n",
              "      <td>1</td>\n",
              "      <td>1</td>\n",
              "      <td>1</td>\n",
              "      <td>1</td>\n",
              "      <td>1</td>\n",
              "      <td>1</td>\n",
              "      <td>1</td>\n",
              "      <td>1</td>\n",
              "      <td>0</td>\n",
              "      <td>1</td>\n",
              "      <td>1</td>\n",
              "      <td>1</td>\n",
              "      <td>1</td>\n",
              "      <td>1</td>\n",
              "      <td>1</td>\n",
              "      <td>1</td>\n",
              "      <td>1</td>\n",
              "      <td>1</td>\n",
              "      <td>1</td>\n",
              "      <td>1</td>\n",
              "      <td>1</td>\n",
              "      <td>1</td>\n",
              "    </tr>\n",
              "  </tbody>\n",
              "</table>\n",
              "</div>"
            ],
            "text/plain": [
              "              region  source  networkdomain  ...  pageviews  month  dayofweek\n",
              "transactions                                 ...                             \n",
              "1               2305    2305           2305  ...       2278   2305       2305\n",
              "2                 96      96             96  ...         90     96         96\n",
              "3                 18      18             18  ...         18     18         18\n",
              "4                  2       2              2  ...          2      2          2\n",
              "5                  1       1              1  ...          1      1          1\n",
              "6                  1       1              1  ...          1      1          1\n",
              "\n",
              "[6 rows x 28 columns]"
            ]
          },
          "metadata": {
            "tags": []
          },
          "execution_count": 76
        }
      ]
    },
    {
      "cell_type": "markdown",
      "metadata": {
        "id": "dz9hsdqVMQos",
        "colab_type": "text"
      },
      "source": [
        "#### Now create a simple plot off of the dataframe indicating the count of calls per month."
      ]
    },
    {
      "cell_type": "code",
      "metadata": {
        "id": "u_ZR1zvNMQot",
        "colab_type": "code",
        "colab": {
          "base_uri": "https://localhost:8080/",
          "height": 698
        },
        "outputId": "c7c6aa45-1b41-4396-9d98-5acab4f48e5e"
      },
      "source": [
        "# Could be any column\n",
        "byMonth['transaction'].plot()"
      ],
      "execution_count": 75,
      "outputs": [
        {
          "output_type": "error",
          "ename": "KeyError",
          "evalue": "ignored",
          "traceback": [
            "\u001b[0;31m---------------------------------------------------------------------------\u001b[0m",
            "\u001b[0;31mKeyError\u001b[0m                                  Traceback (most recent call last)",
            "\u001b[0;32m/usr/local/lib/python3.6/dist-packages/pandas/core/indexes/base.py\u001b[0m in \u001b[0;36mget_loc\u001b[0;34m(self, key, method, tolerance)\u001b[0m\n\u001b[1;32m   2896\u001b[0m             \u001b[0;32mtry\u001b[0m\u001b[0;34m:\u001b[0m\u001b[0;34m\u001b[0m\u001b[0;34m\u001b[0m\u001b[0m\n\u001b[0;32m-> 2897\u001b[0;31m                 \u001b[0;32mreturn\u001b[0m \u001b[0mself\u001b[0m\u001b[0;34m.\u001b[0m\u001b[0m_engine\u001b[0m\u001b[0;34m.\u001b[0m\u001b[0mget_loc\u001b[0m\u001b[0;34m(\u001b[0m\u001b[0mkey\u001b[0m\u001b[0;34m)\u001b[0m\u001b[0;34m\u001b[0m\u001b[0;34m\u001b[0m\u001b[0m\n\u001b[0m\u001b[1;32m   2898\u001b[0m             \u001b[0;32mexcept\u001b[0m \u001b[0mKeyError\u001b[0m\u001b[0;34m:\u001b[0m\u001b[0;34m\u001b[0m\u001b[0;34m\u001b[0m\u001b[0m\n",
            "\u001b[0;32mpandas/_libs/index.pyx\u001b[0m in \u001b[0;36mpandas._libs.index.IndexEngine.get_loc\u001b[0;34m()\u001b[0m\n",
            "\u001b[0;32mpandas/_libs/index.pyx\u001b[0m in \u001b[0;36mpandas._libs.index.IndexEngine.get_loc\u001b[0;34m()\u001b[0m\n",
            "\u001b[0;32mpandas/_libs/hashtable_class_helper.pxi\u001b[0m in \u001b[0;36mpandas._libs.hashtable.PyObjectHashTable.get_item\u001b[0;34m()\u001b[0m\n",
            "\u001b[0;32mpandas/_libs/hashtable_class_helper.pxi\u001b[0m in \u001b[0;36mpandas._libs.hashtable.PyObjectHashTable.get_item\u001b[0;34m()\u001b[0m\n",
            "\u001b[0;31mKeyError\u001b[0m: 'transaction'",
            "\nDuring handling of the above exception, another exception occurred:\n",
            "\u001b[0;31mKeyError\u001b[0m                                  Traceback (most recent call last)",
            "\u001b[0;32m<ipython-input-75-d45f59f5fee3>\u001b[0m in \u001b[0;36m<module>\u001b[0;34m()\u001b[0m\n\u001b[0;32m----> 1\u001b[0;31m \u001b[0mbyMonth\u001b[0m\u001b[0;34m[\u001b[0m\u001b[0;34m'transaction'\u001b[0m\u001b[0;34m]\u001b[0m\u001b[0;34m.\u001b[0m\u001b[0mplot\u001b[0m\u001b[0;34m(\u001b[0m\u001b[0;34m)\u001b[0m\u001b[0;34m\u001b[0m\u001b[0;34m\u001b[0m\u001b[0m\n\u001b[0m",
            "\u001b[0;32m/usr/local/lib/python3.6/dist-packages/pandas/core/frame.py\u001b[0m in \u001b[0;36m__getitem__\u001b[0;34m(self, key)\u001b[0m\n\u001b[1;32m   2993\u001b[0m             \u001b[0;32mif\u001b[0m \u001b[0mself\u001b[0m\u001b[0;34m.\u001b[0m\u001b[0mcolumns\u001b[0m\u001b[0;34m.\u001b[0m\u001b[0mnlevels\u001b[0m \u001b[0;34m>\u001b[0m \u001b[0;36m1\u001b[0m\u001b[0;34m:\u001b[0m\u001b[0;34m\u001b[0m\u001b[0;34m\u001b[0m\u001b[0m\n\u001b[1;32m   2994\u001b[0m                 \u001b[0;32mreturn\u001b[0m \u001b[0mself\u001b[0m\u001b[0;34m.\u001b[0m\u001b[0m_getitem_multilevel\u001b[0m\u001b[0;34m(\u001b[0m\u001b[0mkey\u001b[0m\u001b[0;34m)\u001b[0m\u001b[0;34m\u001b[0m\u001b[0;34m\u001b[0m\u001b[0m\n\u001b[0;32m-> 2995\u001b[0;31m             \u001b[0mindexer\u001b[0m \u001b[0;34m=\u001b[0m \u001b[0mself\u001b[0m\u001b[0;34m.\u001b[0m\u001b[0mcolumns\u001b[0m\u001b[0;34m.\u001b[0m\u001b[0mget_loc\u001b[0m\u001b[0;34m(\u001b[0m\u001b[0mkey\u001b[0m\u001b[0;34m)\u001b[0m\u001b[0;34m\u001b[0m\u001b[0;34m\u001b[0m\u001b[0m\n\u001b[0m\u001b[1;32m   2996\u001b[0m             \u001b[0;32mif\u001b[0m \u001b[0mis_integer\u001b[0m\u001b[0;34m(\u001b[0m\u001b[0mindexer\u001b[0m\u001b[0;34m)\u001b[0m\u001b[0;34m:\u001b[0m\u001b[0;34m\u001b[0m\u001b[0;34m\u001b[0m\u001b[0m\n\u001b[1;32m   2997\u001b[0m                 \u001b[0mindexer\u001b[0m \u001b[0;34m=\u001b[0m \u001b[0;34m[\u001b[0m\u001b[0mindexer\u001b[0m\u001b[0;34m]\u001b[0m\u001b[0;34m\u001b[0m\u001b[0;34m\u001b[0m\u001b[0m\n",
            "\u001b[0;32m/usr/local/lib/python3.6/dist-packages/pandas/core/indexes/base.py\u001b[0m in \u001b[0;36mget_loc\u001b[0;34m(self, key, method, tolerance)\u001b[0m\n\u001b[1;32m   2897\u001b[0m                 \u001b[0;32mreturn\u001b[0m \u001b[0mself\u001b[0m\u001b[0;34m.\u001b[0m\u001b[0m_engine\u001b[0m\u001b[0;34m.\u001b[0m\u001b[0mget_loc\u001b[0m\u001b[0;34m(\u001b[0m\u001b[0mkey\u001b[0m\u001b[0;34m)\u001b[0m\u001b[0;34m\u001b[0m\u001b[0;34m\u001b[0m\u001b[0m\n\u001b[1;32m   2898\u001b[0m             \u001b[0;32mexcept\u001b[0m \u001b[0mKeyError\u001b[0m\u001b[0;34m:\u001b[0m\u001b[0;34m\u001b[0m\u001b[0;34m\u001b[0m\u001b[0m\n\u001b[0;32m-> 2899\u001b[0;31m                 \u001b[0;32mreturn\u001b[0m \u001b[0mself\u001b[0m\u001b[0;34m.\u001b[0m\u001b[0m_engine\u001b[0m\u001b[0;34m.\u001b[0m\u001b[0mget_loc\u001b[0m\u001b[0;34m(\u001b[0m\u001b[0mself\u001b[0m\u001b[0;34m.\u001b[0m\u001b[0m_maybe_cast_indexer\u001b[0m\u001b[0;34m(\u001b[0m\u001b[0mkey\u001b[0m\u001b[0;34m)\u001b[0m\u001b[0;34m)\u001b[0m\u001b[0;34m\u001b[0m\u001b[0;34m\u001b[0m\u001b[0m\n\u001b[0m\u001b[1;32m   2900\u001b[0m         \u001b[0mindexer\u001b[0m \u001b[0;34m=\u001b[0m \u001b[0mself\u001b[0m\u001b[0;34m.\u001b[0m\u001b[0mget_indexer\u001b[0m\u001b[0;34m(\u001b[0m\u001b[0;34m[\u001b[0m\u001b[0mkey\u001b[0m\u001b[0;34m]\u001b[0m\u001b[0;34m,\u001b[0m \u001b[0mmethod\u001b[0m\u001b[0;34m=\u001b[0m\u001b[0mmethod\u001b[0m\u001b[0;34m,\u001b[0m \u001b[0mtolerance\u001b[0m\u001b[0;34m=\u001b[0m\u001b[0mtolerance\u001b[0m\u001b[0;34m)\u001b[0m\u001b[0;34m\u001b[0m\u001b[0;34m\u001b[0m\u001b[0m\n\u001b[1;32m   2901\u001b[0m         \u001b[0;32mif\u001b[0m \u001b[0mindexer\u001b[0m\u001b[0;34m.\u001b[0m\u001b[0mndim\u001b[0m \u001b[0;34m>\u001b[0m \u001b[0;36m1\u001b[0m \u001b[0;32mor\u001b[0m \u001b[0mindexer\u001b[0m\u001b[0;34m.\u001b[0m\u001b[0msize\u001b[0m \u001b[0;34m>\u001b[0m \u001b[0;36m1\u001b[0m\u001b[0;34m:\u001b[0m\u001b[0;34m\u001b[0m\u001b[0;34m\u001b[0m\u001b[0m\n",
            "\u001b[0;32mpandas/_libs/index.pyx\u001b[0m in \u001b[0;36mpandas._libs.index.IndexEngine.get_loc\u001b[0;34m()\u001b[0m\n",
            "\u001b[0;32mpandas/_libs/index.pyx\u001b[0m in \u001b[0;36mpandas._libs.index.IndexEngine.get_loc\u001b[0;34m()\u001b[0m\n",
            "\u001b[0;32mpandas/_libs/hashtable_class_helper.pxi\u001b[0m in \u001b[0;36mpandas._libs.hashtable.PyObjectHashTable.get_item\u001b[0;34m()\u001b[0m\n",
            "\u001b[0;32mpandas/_libs/hashtable_class_helper.pxi\u001b[0m in \u001b[0;36mpandas._libs.hashtable.PyObjectHashTable.get_item\u001b[0;34m()\u001b[0m\n",
            "\u001b[0;31mKeyError\u001b[0m: 'transaction'"
          ]
        }
      ]
    },
    {
      "cell_type": "markdown",
      "metadata": {
        "id": "mMpRaCoxMQow",
        "colab_type": "text"
      },
      "source": [
        "#### Now see if you can use seaborn's lmplot() to create a linear fit on the number of calls per month. Keep in mind you may need to reset the index to a column."
      ]
    },
    {
      "cell_type": "code",
      "metadata": {
        "id": "h4nudMCjMQow",
        "colab_type": "code",
        "colab": {}
      },
      "source": [
        "sns.lmplot(x='month',y='newusers',data=byMonth.reset_index())"
      ],
      "execution_count": 0,
      "outputs": []
    },
    {
      "cell_type": "markdown",
      "metadata": {
        "id": "0s8i2T_hMQoz",
        "colab_type": "text"
      },
      "source": [
        "#### Now groupby this Date column with the count() aggregate and create a plot of counts of new users."
      ]
    },
    {
      "cell_type": "code",
      "metadata": {
        "id": "fSataoBZMQoz",
        "colab_type": "code",
        "colab": {}
      },
      "source": [
        "data1.groupby('date').count()['newusers'].plot()\n",
        "plt.tight_layout()"
      ],
      "execution_count": 0,
      "outputs": []
    },
    {
      "cell_type": "markdown",
      "metadata": {
        "id": "FyjXmVuGMQo2",
        "colab_type": "text"
      },
      "source": [
        "#### Now recreate this plot but create 3 separate plots with each plot representing"
      ]
    },
    {
      "cell_type": "code",
      "metadata": {
        "id": "j-95PK3sMQo2",
        "colab_type": "code",
        "colab": {}
      },
      "source": [
        "data1[data1['year']=='2019'].groupby('date').count()['newusers'].plot()\n",
        "plt.title('2019')\n",
        "plt.tight_layout()"
      ],
      "execution_count": 0,
      "outputs": []
    },
    {
      "cell_type": "code",
      "metadata": {
        "id": "GIyXNNg5MQo5",
        "colab_type": "code",
        "colab": {}
      },
      "source": [
        "data1[data1['year']=='2018'].groupby('date').count()['newusers'].plot()\n",
        "plt.title('2018')\n",
        "plt.tight_layout()"
      ],
      "execution_count": 0,
      "outputs": []
    },
    {
      "cell_type": "code",
      "metadata": {
        "id": "Jgf_TlI8MQo9",
        "colab_type": "code",
        "colab": {}
      },
      "source": [
        "data1[data1['year']=='2017'].groupby('date').count()['newusers'].plot()\n",
        "plt.title('2017')\n",
        "plt.tight_layout()"
      ],
      "execution_count": 0,
      "outputs": []
    },
    {
      "cell_type": "code",
      "metadata": {
        "id": "Q-taaTgeMQpC",
        "colab_type": "code",
        "colab": {}
      },
      "source": [
        ""
      ],
      "execution_count": 0,
      "outputs": []
    },
    {
      "cell_type": "code",
      "metadata": {
        "id": "x7sAXWr6MQpE",
        "colab_type": "code",
        "colab": {}
      },
      "source": [
        ""
      ],
      "execution_count": 0,
      "outputs": []
    },
    {
      "cell_type": "code",
      "metadata": {
        "id": "NmGqOEQIMQpJ",
        "colab_type": "code",
        "colab": {}
      },
      "source": [
        "resp2 = requests.get(url=url2)\n",
        "data2 = json_normalize(resp2.json())\n",
        "data2.head()"
      ],
      "execution_count": 0,
      "outputs": []
    },
    {
      "cell_type": "code",
      "metadata": {
        "id": "Uvh9wEs2MQpL",
        "colab_type": "code",
        "colab": {}
      },
      "source": [
        "data2.shape"
      ],
      "execution_count": 0,
      "outputs": []
    },
    {
      "cell_type": "code",
      "metadata": {
        "id": "s95wMmNBMQpP",
        "colab_type": "code",
        "colab": {}
      },
      "source": [
        "resp3 = requests.get(url=url3)\n",
        "data3 = json_normalize(resp3.json())\n",
        "data3.head()"
      ],
      "execution_count": 0,
      "outputs": []
    },
    {
      "cell_type": "code",
      "metadata": {
        "id": "8PFQdlDtMQpT",
        "colab_type": "code",
        "colab": {}
      },
      "source": [
        "data3.shape"
      ],
      "execution_count": 0,
      "outputs": []
    },
    {
      "cell_type": "code",
      "metadata": {
        "id": "AlAAuKQoMQpV",
        "colab_type": "code",
        "colab": {}
      },
      "source": [
        "data3[data3['transactions'] == '1'].count()"
      ],
      "execution_count": 0,
      "outputs": []
    },
    {
      "cell_type": "code",
      "metadata": {
        "id": "r8Jp_-VVMQpY",
        "colab_type": "code",
        "colab": {}
      },
      "source": [
        ""
      ],
      "execution_count": 0,
      "outputs": []
    },
    {
      "cell_type": "code",
      "metadata": {
        "id": "MFiNh4EAMQpa",
        "colab_type": "code",
        "colab": {}
      },
      "source": [
        ""
      ],
      "execution_count": 0,
      "outputs": []
    },
    {
      "cell_type": "code",
      "metadata": {
        "id": "WguHRVg0MQpd",
        "colab_type": "code",
        "colab": {}
      },
      "source": [
        "resp4 = requests.get(url=url4)\n",
        "data4 = json_normalize(resp4.json())\n",
        "data4.head()"
      ],
      "execution_count": 0,
      "outputs": []
    },
    {
      "cell_type": "code",
      "metadata": {
        "id": "p_Fg8NMqMQpf",
        "colab_type": "code",
        "colab": {}
      },
      "source": [
        "data4.shape"
      ],
      "execution_count": 0,
      "outputs": []
    },
    {
      "cell_type": "code",
      "metadata": {
        "id": "eI4QDosoMQpi",
        "colab_type": "code",
        "colab": {}
      },
      "source": [
        "resp5 = requests.get(url=url5)\n",
        "data5 = json_normalize(resp5.json())\n",
        "data5.head()"
      ],
      "execution_count": 0,
      "outputs": []
    },
    {
      "cell_type": "code",
      "metadata": {
        "id": "OPOl2_PzMQpk",
        "colab_type": "code",
        "colab": {}
      },
      "source": [
        "data5.shape"
      ],
      "execution_count": 0,
      "outputs": []
    },
    {
      "cell_type": "code",
      "metadata": {
        "id": "xYB48ywBMQpm",
        "colab_type": "code",
        "colab": {}
      },
      "source": [
        "type(data)"
      ],
      "execution_count": 0,
      "outputs": []
    },
    {
      "cell_type": "code",
      "metadata": {
        "id": "oMiFLyBAMQpn",
        "colab_type": "code",
        "colab": {}
      },
      "source": [
        "# En la columna \"bouncerate\" remplazamos '0.0' por '0' y '100.0' por '1'\n",
        "ds=pd.DataFrame(data)\n",
        "ds=data_select.replace(['0.0','100.0'], [0,1])\n",
        "ds.head()"
      ],
      "execution_count": 0,
      "outputs": []
    },
    {
      "cell_type": "code",
      "metadata": {
        "id": "2Uyw66F6MQpp",
        "colab_type": "code",
        "colab": {}
      },
      "source": [
        "ds['bouncerate'].dtype"
      ],
      "execution_count": 0,
      "outputs": []
    },
    {
      "cell_type": "code",
      "metadata": {
        "id": "Lr-9xMbiMQpw",
        "colab_type": "code",
        "colab": {}
      },
      "source": [
        "ds['bouncerate'] = ds['bouncerate'].astype('float64')"
      ],
      "execution_count": 0,
      "outputs": []
    },
    {
      "cell_type": "code",
      "metadata": {
        "id": "IhSK6tg1MQpz",
        "colab_type": "code",
        "colab": {}
      },
      "source": [
        "ds['hour'] = ds['hour'].astype('int64')"
      ],
      "execution_count": 0,
      "outputs": []
    },
    {
      "cell_type": "code",
      "metadata": {
        "id": "7heBMc7-MQp0",
        "colab_type": "code",
        "colab": {}
      },
      "source": [
        "ds['date'] = ds['hour'].astype('datetime64[ns]')"
      ],
      "execution_count": 0,
      "outputs": []
    },
    {
      "cell_type": "code",
      "metadata": {
        "id": "mrclE4gYMQp3",
        "colab_type": "code",
        "colab": {}
      },
      "source": [
        "ds['date'].dtype"
      ],
      "execution_count": 0,
      "outputs": []
    },
    {
      "cell_type": "code",
      "metadata": {
        "id": "ZhwLuAdCMQp6",
        "colab_type": "code",
        "colab": {}
      },
      "source": [
        "ds.head()"
      ],
      "execution_count": 0,
      "outputs": []
    },
    {
      "cell_type": "code",
      "metadata": {
        "id": "KF3R1iVrMQp8",
        "colab_type": "code",
        "colab": {}
      },
      "source": [
        "# Check if I have null values\n",
        "data.isnull().sum()"
      ],
      "execution_count": 0,
      "outputs": []
    },
    {
      "cell_type": "code",
      "metadata": {
        "id": "5DQCyB7kMQp_",
        "colab_type": "code",
        "colab": {}
      },
      "source": [
        "# Target Names\n",
        "targetNames = ['bouncerate','No bouncerate']"
      ],
      "execution_count": 0,
      "outputs": []
    },
    {
      "cell_type": "code",
      "metadata": {
        "id": "SvHYeZ1eMQqC",
        "colab_type": "code",
        "colab": {}
      },
      "source": [
        "%matplotlib inline\n",
        "\n",
        "import matplotlib.pyplot as plt\n",
        "import seaborn as sns\n",
        "\n",
        "fig = plt.figure(figsize=(10, 7))\n",
        "g = sns.lineplot(x=\"date\", y=\"bouncerate\", ci=False,\n",
        "             hue=\"browser\", data=ds)\n",
        "\n",
        "g.set_ylabel(\"Bouncerate\",fontsize=20)\n",
        "g.set_xlabel(\"Month\",fontsize=20)\n",
        "\n",
        "\n",
        "plt.legend(bbox_to_anchor=(1.05, 1), loc=2, borderaxespad=0.)"
      ],
      "execution_count": 0,
      "outputs": []
    },
    {
      "cell_type": "code",
      "metadata": {
        "id": "tmkLpGH0MQqG",
        "colab_type": "code",
        "colab": {}
      },
      "source": [
        "result = pd.merge(data1, data2, how='outer', on=['date','hour','browser','city','networkdomain','region','source'])"
      ],
      "execution_count": 0,
      "outputs": []
    },
    {
      "cell_type": "code",
      "metadata": {
        "id": "azwfHRFwMQqH",
        "colab_type": "code",
        "colab": {}
      },
      "source": [
        "result.head()"
      ],
      "execution_count": 0,
      "outputs": []
    },
    {
      "cell_type": "code",
      "metadata": {
        "id": "qlaUpI0_MQqK",
        "colab_type": "code",
        "colab": {}
      },
      "source": [
        "result.shape"
      ],
      "execution_count": 0,
      "outputs": []
    },
    {
      "cell_type": "code",
      "metadata": {
        "id": "GLw-E842MQqM",
        "colab_type": "code",
        "colab": {}
      },
      "source": [
        "result = pd.merge(result, data3, how='outer', on=['date','hour','browser','city','networkdomain','region','source'])"
      ],
      "execution_count": 0,
      "outputs": []
    },
    {
      "cell_type": "code",
      "metadata": {
        "id": "sZOr_e8UMQqN",
        "colab_type": "code",
        "colab": {}
      },
      "source": [
        "result.head()"
      ],
      "execution_count": 0,
      "outputs": []
    },
    {
      "cell_type": "code",
      "metadata": {
        "id": "gIo7GST6MQqP",
        "colab_type": "code",
        "colab": {}
      },
      "source": [
        "result.shape"
      ],
      "execution_count": 0,
      "outputs": []
    },
    {
      "cell_type": "code",
      "metadata": {
        "id": "dF2NpDp-MQqS",
        "colab_type": "code",
        "colab": {}
      },
      "source": [
        "result = pd.merge(result, data4, how='outer', on=['date','hour','browser','city','networkdomain','region','source'])"
      ],
      "execution_count": 0,
      "outputs": []
    },
    {
      "cell_type": "code",
      "metadata": {
        "id": "pcCNEgcOMQqT",
        "colab_type": "code",
        "colab": {}
      },
      "source": [
        "result.head()"
      ],
      "execution_count": 0,
      "outputs": []
    },
    {
      "cell_type": "code",
      "metadata": {
        "id": "keyWuOyJMQqW",
        "colab_type": "code",
        "colab": {}
      },
      "source": [
        "result.shape"
      ],
      "execution_count": 0,
      "outputs": []
    },
    {
      "cell_type": "code",
      "metadata": {
        "id": "gKIoQUAcMQqX",
        "colab_type": "code",
        "colab": {}
      },
      "source": [
        "# Check if I have null values\n",
        "result.isnull().sum()"
      ],
      "execution_count": 0,
      "outputs": []
    },
    {
      "cell_type": "markdown",
      "metadata": {
        "id": "DfObOtpIMQqZ",
        "colab_type": "text"
      },
      "source": [
        "### Tasa de Conversión\n",
        "\n",
        "#### La tasa de conversión es la división de ventas captadas entre visitas recibidas. En otras palabras, representa el porcentaje de visitantes que concretaron una compra."
      ]
    },
    {
      "cell_type": "markdown",
      "metadata": {
        "id": "-yxo1vxjMQqZ",
        "colab_type": "text"
      },
      "source": [
        "**Matrix preparation**\n",
        "\n"
      ]
    },
    {
      "cell_type": "code",
      "metadata": {
        "id": "t9vt8VmSMQqa",
        "colab_type": "code",
        "colab": {}
      },
      "source": [
        ""
      ],
      "execution_count": 0,
      "outputs": []
    },
    {
      "cell_type": "code",
      "metadata": {
        "id": "lwjiuQKjMQqb",
        "colab_type": "code",
        "colab": {}
      },
      "source": [
        ""
      ],
      "execution_count": 0,
      "outputs": []
    },
    {
      "cell_type": "code",
      "metadata": {
        "id": "IbqY8tTiMQqd",
        "colab_type": "code",
        "colab": {}
      },
      "source": [
        ""
      ],
      "execution_count": 0,
      "outputs": []
    }
  ]
}